{
 "cells": [
  {
   "cell_type": "markdown",
   "id": "e1d34df1",
   "metadata": {},
   "source": [
    "# Game Review Analysis Code\n",
    "This notebook contains the Python code used to analyze sentiment and features across game reviews."
   ]
  },
  {
   "cell_type": "markdown",
   "id": "59bcd4d7",
   "metadata": {},
   "source": [
    "## 1. Feature Mention Frequency and Sentiment"
   ]
  },
  {
   "cell_type": "code",
   "execution_count": null,
   "id": "dc9b563d",
   "metadata": {},
   "outputs": [],
   "source": [
    "features = [\n",
    "    'multiplayer_mentioned', 'bugs_mentioned', 'graphics_mentioned', 'story_mentioned',\n",
    "    'controls_mentioned', 'ai_mentioned', 'updates_mentioned', 'price_mentioned'\n",
    "]\n",
    "feature_freq = df[features].sum().sort_values(ascending=False).reset_index()\n",
    "feature_freq.columns = ['feature', 'mention_count']\n",
    "feature_sentiment = {\n",
    "    feature: df[df[feature]]['polarity'].mean() for feature in features\n",
    "}\n",
    "feature_sentiment_df = pd.DataFrame.from_dict(feature_sentiment, orient='index', columns=['avg_polarity']).reset_index()\n",
    "feature_sentiment_df.columns = ['feature', 'avg_polarity']\n",
    "feature_analysis_df = feature_freq.merge(feature_sentiment_df, on='feature')"
   ]
  },
  {
   "cell_type": "markdown",
   "id": "746a3cd4",
   "metadata": {},
   "source": [
    "## 2. Before vs After Feature Mentions and Sentiment"
   ]
  },
  {
   "cell_type": "code",
   "execution_count": null,
   "id": "05968fe8",
   "metadata": {},
   "outputs": [],
   "source": [
    "feature_release_trends = []\n",
    "for feature in features:\n",
    "    before_count = df[(df[feature]) & (df['commented'] == 'before')].shape[0]\n",
    "    after_count = df[(df[feature]) & (df['commented'] == 'after')].shape[0]\n",
    "    before_polarity = df[(df[feature]) & (df['commented'] == 'before')]['polarity'].mean()\n",
    "    after_polarity = df[(df[feature]) & (df['commented'] == 'after')]['polarity'].mean()\n",
    "    feature_release_trends.append({\n",
    "        'feature': feature,\n",
    "        'before_mentions': before_count,\n",
    "        'after_mentions': after_count,\n",
    "        'before_avg_polarity': before_polarity,\n",
    "        'after_avg_polarity': after_polarity\n",
    "    })\n",
    "release_analysis_df = pd.DataFrame(feature_release_trends)"
   ]
  },
  {
   "cell_type": "markdown",
   "id": "15d59fd2",
   "metadata": {},
   "source": [
    "## 3. Monthly Normalized Feature Trends"
   ]
  },
  {
   "cell_type": "code",
   "execution_count": null,
   "id": "802753b8",
   "metadata": {},
   "outputs": [],
   "source": [
    "df['month'] = df['commented_date'].dt.to_period(\"M\").dt.to_timestamp()\n",
    "monthly_feature_counts = df.groupby(\"month\")[features].sum().reset_index()\n",
    "monthly_feature_trends = monthly_feature_counts.melt(id_vars='month', var_name='feature', value_name='mention_count')\n",
    "monthly_total_comments = df.groupby('month')[\"comment\"].count().reset_index(name=\"total_comments\")\n",
    "monthly_feature_trends = monthly_feature_trends.merge(monthly_total_comments, on=\"month\")\n",
    "monthly_feature_trends['mentions_per_1000_comments'] = 1000 * monthly_feature_trends['mention_count'] / monthly_feature_trends['total_comments']"
   ]
  },
  {
   "cell_type": "markdown",
   "id": "af2c32e1",
   "metadata": {},
   "source": [
    "## 4. Game-Level Normalized Feature Mentions"
   ]
  },
  {
   "cell_type": "code",
   "execution_count": null,
   "id": "470ff19f",
   "metadata": {},
   "outputs": [],
   "source": [
    "game_feature_counts = df.groupby(\"game\")[features].sum()\n",
    "game_comment_counts = df.groupby(\"game\")[\"comment\"].count()\n",
    "game_feature_density = game_feature_counts.div(game_comment_counts, axis=0)\n",
    "game_feature_density[\"genre\"] = df.groupby(\"game\")[\"genre\"].first()"
   ]
  }
 ],
 "metadata": {},
 "nbformat": 4,
 "nbformat_minor": 5
}
